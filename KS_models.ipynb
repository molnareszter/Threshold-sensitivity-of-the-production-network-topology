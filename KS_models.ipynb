{
  "nbformat": 4,
  "nbformat_minor": 0,
  "metadata": {
    "colab": {
      "provenance": [],
      "collapsed_sections": [
        "7jQTHQ06-Zcs",
        "k0-PjkThY7xg",
        "gDZws3phpMvG",
        "7w8v_-LlKenQ",
        "acGn4ZYggTAV"
      ]
    },
    "kernelspec": {
      "name": "python3",
      "display_name": "Python 3"
    },
    "language_info": {
      "name": "python"
    }
  },
  "cells": [
    {
      "cell_type": "markdown",
      "metadata": {
        "id": "7jQTHQ06-Zcs"
      },
      "source": [
        "#### Auth - Drive authenticate"
      ]
    },
    {
      "cell_type": "code",
      "metadata": {
        "id": "hRYAF98D9tvy"
      },
      "source": [
        "from google.colab import auth\n",
        "auth.authenticate_user()\n",
        "\n",
        "import gspread\n",
        "from google.auth import default\n",
        "creds, _ = default()\n",
        "\n",
        "gc = gspread.authorize(creds)"
      ],
      "execution_count": null,
      "outputs": []
    },
    {
      "cell_type": "markdown",
      "metadata": {
        "id": "k0-PjkThY7xg"
      },
      "source": [
        "#### Import"
      ]
    },
    {
      "cell_type": "code",
      "metadata": {
        "id": "73UyUxQ19sBg"
      },
      "source": [
        "import requests, pandas as pd, numpy as np\n",
        "from requests import session\n",
        "import networkx as nx\n",
        "import matplotlib.pyplot as plt\n",
        "import itertools\n",
        "import random\n",
        "import seaborn as sns\n",
        "from matplotlib.pyplot import figure\n",
        "from collections import Counter\n",
        "from scipy import stats\n",
        "import decimal\n",
        "from decimal import *\n",
        "import powerlaw\n",
        "from google.colab import files"
      ],
      "execution_count": null,
      "outputs": []
    },
    {
      "cell_type": "markdown",
      "metadata": {
        "id": "gDZws3phpMvG"
      },
      "source": [
        "#### Read data"
      ]
    },
    {
      "cell_type": "code",
      "source": [
        "network_all = gc.open_by_key('1c5_rTfNYg9NYUiqP28XQo1xALqwZNNUiTdSKqy_zX5Y')\n",
        "edges_all = network_all.worksheet('edges')\n",
        "data = edges_all.get_all_values()\n",
        "df_all = pd.DataFrame(data)\n",
        "df_all = df_all.rename(columns=df_all.iloc[0]).drop(df_all.index[0])\n",
        "df_all[\"Weight\"]=df_all[\"Weight\"].str.replace(',','.')\n",
        "df_all[[\"Weight\"]] = df_all[[\"Weight\"]].apply(pd.to_numeric)"
      ],
      "metadata": {
        "id": "VYRZzbBQH5xC"
      },
      "execution_count": null,
      "outputs": []
    },
    {
      "cell_type": "code",
      "metadata": {
        "id": "Yj9V8s6wuxCR"
      },
      "source": [
        "# 2012\n",
        "df2012 = df_all.loc[df_all['Timeset'] == '2012']\n",
        "df2012 = df2012[df2012['Weight'] < 1]"
      ],
      "execution_count": null,
      "outputs": []
    },
    {
      "cell_type": "code",
      "source": [
        "# 2007\n",
        "df2007 = df_all.loc[df_all['Timeset'] == '2007']\n",
        "df2007 = df2007[df2007['Weight'] < 1]"
      ],
      "metadata": {
        "id": "L1oerN99Hu7E"
      },
      "execution_count": null,
      "outputs": []
    },
    {
      "cell_type": "markdown",
      "metadata": {
        "id": "Iz-zb1QL1Z7P"
      },
      "source": [
        "## KS two-sample test"
      ]
    },
    {
      "cell_type": "code",
      "source": [
        "i=0.00001\n",
        "a=[]\n",
        "while i<0.51:\n",
        "  a.append(i)\n",
        "  i=i+0.005"
      ],
      "metadata": {
        "id": "kZybh5OJNOa2"
      },
      "execution_count": null,
      "outputs": []
    },
    {
      "cell_type": "markdown",
      "metadata": {
        "id": "7w8v_-LlKenQ"
      },
      "source": [
        "#### 2012\n"
      ]
    },
    {
      "cell_type": "markdown",
      "metadata": {
        "id": "7Z7d3Hg_PIEs"
      },
      "source": [
        "In-degree"
      ]
    },
    {
      "cell_type": "code",
      "metadata": {
        "id": "fqHcGobSKPV2"
      },
      "source": [
        "stat_all = []\n",
        "for w in a:\n",
        "    df_cut = df2012[df2012['Weight'] > w]\n",
        "\n",
        "    G_cut = nx.DiGraph()\n",
        "    G_cut.add_nodes_from(df_cut['Source'])\n",
        "    G_cut.add_nodes_from(df_cut['Target'])\n",
        "    G_cut.add_edges_from(zip(df_cut['Source'],df_cut['Target']))\n",
        "\n",
        "    #calculating variables in scale free model (alpha, beta, gamma)\n",
        "    #top-outdegree\n",
        "    df_out=pd.DataFrame(sorted(G_cut.out_degree, key=lambda x: x[1], reverse=True))\n",
        "    df_out.columns = ['ID', 'Out-degree']\n",
        "    topout=df_out['Out-degree'].iloc[0]\n",
        "    #top-indegree\n",
        "    df_in=pd.DataFrame(sorted(G_cut.in_degree, key=lambda x: x[1], reverse=True))\n",
        "    df_in.columns = ['ID', 'In-degree']\n",
        "    topin=df_in['In-degree'].iloc[0]\n",
        "    #topall\n",
        "    topall=topin+topout\n",
        "    divid=(topin/topall)+1+(topout/topall)\n",
        "    alpha=(topin/topall)/divid\n",
        "    beta=1/divid\n",
        "    gamma=(topout/topall)/divid\n",
        "\n",
        "    G_scalefree = nx.scale_free_graph(G_cut.number_of_nodes(), alpha=alpha, beta=beta, gamma=gamma, delta_in=0.6, delta_out=0, seed=1)\n",
        "    G_random = nx.gnm_random_graph(G_cut.number_of_nodes(), G_cut.number_of_edges(), directed=True, seed=1)\n",
        "\n",
        "    #in-degree\n",
        "    degrees_G_cut = [G_cut.in_degree(n) for n in G_cut.nodes()]\n",
        "    degrees_G_random = [G_random.in_degree(n) for n in G_random.nodes()]\n",
        "    degrees_G_scalefree = [G_scalefree.in_degree(n) for n in G_scalefree.nodes()]\n",
        "\n",
        "    ks_random = stats.ks_2samp(degrees_G_cut, degrees_G_random)\n",
        "    ks_scalefree = stats.ks_2samp(degrees_G_cut, degrees_G_scalefree)\n",
        "\n",
        "    stat_all.append({'w': w,\n",
        "                    'nodes':G_cut.number_of_nodes(),\n",
        "                    'edges':G_cut.number_of_edges(),\n",
        "                    'ks_random_statistic':ks_random[0],\n",
        "                    'ks_random_pvalue':decimal.Decimal(\"{}\".format(float((ks_random[1])))),\n",
        "                    'ks_scalefree_statistic':ks_scalefree[0],\n",
        "                    'ks_scalefree_pvalue':decimal.Decimal(\"{}\".format(float((ks_scalefree[1])))),\n",
        "                     })"
      ],
      "execution_count": null,
      "outputs": []
    },
    {
      "cell_type": "code",
      "metadata": {
        "id": "tjYijmofOH_I"
      },
      "source": [
        "df_stat_all = pd.DataFrame(stat_all)\n",
        "DET_all = gc.open_by_key('1duvehwpb506mSnr6SnJ5iVzvXTwlAzKDp8l-IDnQLUk')\n",
        "worksheet_DET_all = DET_all.get_worksheet(0)\n",
        "set_with_dataframe(worksheet_DET_all , df_stat_all)"
      ],
      "execution_count": null,
      "outputs": []
    },
    {
      "cell_type": "markdown",
      "metadata": {
        "id": "jEj1yoURPKqx"
      },
      "source": [
        "Out-degree"
      ]
    },
    {
      "cell_type": "code",
      "metadata": {
        "id": "sdEKd5RsPOSI"
      },
      "source": [
        "stat_all = []\n",
        "for w in a:\n",
        "    df_cut = df2012[df2012['Weight'] > w]\n",
        "\n",
        "    G_cut = nx.DiGraph()\n",
        "    G_cut.add_nodes_from(df_cut['Source'])\n",
        "    G_cut.add_nodes_from(df_cut['Target'])\n",
        "    G_cut.add_edges_from(zip(df_cut['Source'],df_cut['Target']))\n",
        "\n",
        "    #calculating variables in scale free model (alpha, beta, gamma)\n",
        "    #top-outdegree\n",
        "    df_out=pd.DataFrame(sorted(G_cut.out_degree, key=lambda x: x[1], reverse=True))\n",
        "    df_out.columns = ['ID', 'Out-degree']\n",
        "    topout=df_out['Out-degree'].iloc[0]\n",
        "    #top-indegree\n",
        "    df_in=pd.DataFrame(sorted(G_cut.in_degree, key=lambda x: x[1], reverse=True))\n",
        "    df_in.columns = ['ID', 'In-degree']\n",
        "    topin=df_in['In-degree'].iloc[0]\n",
        "    #topall\n",
        "    topall=topin+topout\n",
        "    divid=(topin/topall)+1+(topout/topall)\n",
        "    alpha=(topin/topall)/divid\n",
        "    beta=1/divid\n",
        "    gamma=(topout/topall)/divid\n",
        "\n",
        "    G_scalefree = nx.scale_free_graph(G_cut.number_of_nodes(), alpha=alpha, beta=beta, gamma=gamma, delta_in=0, delta_out=0.6, seed=1)\n",
        "    G_random = nx.gnm_random_graph(G_cut.number_of_nodes(), G_cut.number_of_edges(), directed=True, seed=1)\n",
        "\n",
        "    #out-degree\n",
        "    degrees_G_cut = [G_cut.out_degree(n) for n in G_cut.nodes()]\n",
        "    degrees_G_random = [G_random.out_degree(n) for n in G_random.nodes()]\n",
        "    degrees_G_scalefree = [G_scalefree.out_degree(n) for n in G_scalefree.nodes()]\n",
        "\n",
        "    ks_random = stats.ks_2samp(degrees_G_cut, degrees_G_random)\n",
        "    ks_scalefree = stats.ks_2samp(degrees_G_cut, degrees_G_scalefree)\n",
        "\n",
        "    stat_all.append({'w': w,\n",
        "                    'nodes':G_cut.number_of_nodes(),\n",
        "                    'edges':G_cut.number_of_edges(),\n",
        "                    'ks_random_statistic':ks_random[0],\n",
        "                    'ks_random_pvalue':decimal.Decimal(\"{}\".format(float((ks_random[1])))),\n",
        "                    'ks_scalefree_statistic':ks_scalefree[0],\n",
        "                    'ks_scalefree_pvalue':decimal.Decimal(\"{}\".format(float((ks_scalefree[1])))),\n",
        "                     })"
      ],
      "execution_count": null,
      "outputs": []
    },
    {
      "cell_type": "code",
      "metadata": {
        "id": "k47llnYjPOSJ"
      },
      "source": [
        "df_stat_all = pd.DataFrame(stat_all)\n",
        "DET_all = gc.open_by_key('1tXishoaXa4x3Q0NtBu2VG7To5fHFy6QYah3oqTXrVRI')\n",
        "worksheet_DET_all = DET_all.get_worksheet(0)\n",
        "set_with_dataframe(worksheet_DET_all , df_stat_all)"
      ],
      "execution_count": null,
      "outputs": []
    },
    {
      "cell_type": "markdown",
      "metadata": {
        "id": "qgaVx2EWIfIr"
      },
      "source": [
        "#### 2007\n"
      ]
    },
    {
      "cell_type": "code",
      "source": [
        "i=0.00001\n",
        "a=[]\n",
        "while i<0.51:\n",
        "  a.append(i)\n",
        "  i=i+0.005"
      ],
      "metadata": {
        "id": "h7pvR2kLIfIs"
      },
      "execution_count": null,
      "outputs": []
    },
    {
      "cell_type": "markdown",
      "metadata": {
        "id": "8leJqH8oIfIt"
      },
      "source": [
        "In-degree"
      ]
    },
    {
      "cell_type": "code",
      "metadata": {
        "id": "8jPge2GjIfIu"
      },
      "source": [
        "stat_all = []\n",
        "for w in a:\n",
        "    df_cut = df2007[df2007['Weight'] > w]\n",
        "\n",
        "    G_cut = nx.DiGraph()\n",
        "    G_cut.add_nodes_from(df_cut['Source'])\n",
        "    G_cut.add_nodes_from(df_cut['Target'])\n",
        "    G_cut.add_edges_from(zip(df_cut['Source'],df_cut['Target']))\n",
        "\n",
        "    #calculating variables in scale free model (alpha, beta, gamma)\n",
        "    #top-outdegree\n",
        "    df_out=pd.DataFrame(sorted(G_cut.out_degree, key=lambda x: x[1], reverse=True))\n",
        "    df_out.columns = ['ID', 'Out-degree']\n",
        "    topout=df_out['Out-degree'].iloc[0]\n",
        "    #top-indegree\n",
        "    df_in=pd.DataFrame(sorted(G_cut.in_degree, key=lambda x: x[1], reverse=True))\n",
        "    df_in.columns = ['ID', 'In-degree']\n",
        "    topin=df_in['In-degree'].iloc[0]\n",
        "    #topall\n",
        "    topall=topin+topout\n",
        "    divid=(topin/topall)+1+(topout/topall)\n",
        "    alpha=(topin/topall)/divid\n",
        "    beta=1/divid\n",
        "    gamma=(topout/topall)/divid\n",
        "\n",
        "    G_scalefree = nx.scale_free_graph(G_cut.number_of_nodes(), alpha=alpha, beta=beta, gamma=gamma, delta_in=0.6, delta_out=0, seed=1)\n",
        "    G_random = nx.gnm_random_graph(G_cut.number_of_nodes(), G_cut.number_of_edges(), directed=True, seed=1)\n",
        "\n",
        "    #in-degree\n",
        "    degrees_G_cut = [G_cut.in_degree(n) for n in G_cut.nodes()]\n",
        "    degrees_G_random = [G_random.in_degree(n) for n in G_random.nodes()]\n",
        "    degrees_G_scalefree = [G_scalefree.in_degree(n) for n in G_scalefree.nodes()]\n",
        "\n",
        "    ks_random = stats.ks_2samp(degrees_G_cut, degrees_G_random)\n",
        "    ks_scalefree = stats.ks_2samp(degrees_G_cut, degrees_G_scalefree)\n",
        "\n",
        "    stat_all.append({'w': w,\n",
        "                    'nodes':G_cut.number_of_nodes(),\n",
        "                    'edges':G_cut.number_of_edges(),\n",
        "                    'ks_random_statistic':ks_random[0],\n",
        "                    'ks_random_pvalue':decimal.Decimal(\"{}\".format(float((ks_random[1])))),\n",
        "                    'ks_scalefree_statistic':ks_scalefree[0],\n",
        "                    'ks_scalefree_pvalue':decimal.Decimal(\"{}\".format(float((ks_scalefree[1])))),\n",
        "                     })"
      ],
      "execution_count": null,
      "outputs": []
    },
    {
      "cell_type": "code",
      "metadata": {
        "id": "VMvStwaKIfIv"
      },
      "source": [
        "df_stat_all = pd.DataFrame(stat_all)\n",
        "DET_all = gc.open_by_key('1z3yya39BXZuyKikSsF4FzVZnuqKPwuXey8TQTpnGbh0')\n",
        "worksheet_DET_all = DET_all.get_worksheet(0)\n",
        "set_with_dataframe(worksheet_DET_all , df_stat_all)"
      ],
      "execution_count": null,
      "outputs": []
    },
    {
      "cell_type": "markdown",
      "metadata": {
        "id": "db_Hql3QIfIx"
      },
      "source": [
        "Out-degree"
      ]
    },
    {
      "cell_type": "code",
      "metadata": {
        "id": "79WBY_h2IfIx"
      },
      "source": [
        "stat_all = []\n",
        "for w in a:\n",
        "    df_cut = df2007[df2007['Weight'] > w]\n",
        "\n",
        "    G_cut = nx.DiGraph()\n",
        "    G_cut.add_nodes_from(df_cut['Source'])\n",
        "    G_cut.add_nodes_from(df_cut['Target'])\n",
        "    G_cut.add_edges_from(zip(df_cut['Source'],df_cut['Target']))\n",
        "\n",
        "    #calculating variables in scale free model (alpha, beta, gamma)\n",
        "    #top-outdegree\n",
        "    df_out=pd.DataFrame(sorted(G_cut.out_degree, key=lambda x: x[1], reverse=True))\n",
        "    df_out.columns = ['ID', 'Out-degree']\n",
        "    topout=df_out['Out-degree'].iloc[0]\n",
        "    #top-indegree\n",
        "    df_in=pd.DataFrame(sorted(G_cut.in_degree, key=lambda x: x[1], reverse=True))\n",
        "    df_in.columns = ['ID', 'In-degree']\n",
        "    topin=df_in['In-degree'].iloc[0]\n",
        "    #topall\n",
        "    topall=topin+topout\n",
        "    divid=(topin/topall)+1+(topout/topall)\n",
        "    alpha=(topin/topall)/divid\n",
        "    beta=1/divid\n",
        "    gamma=(topout/topall)/divid\n",
        "\n",
        "    G_scalefree = nx.scale_free_graph(G_cut.number_of_nodes(), alpha=alpha, beta=beta, gamma=gamma, delta_in=0, delta_out=0.6, seed=1)\n",
        "    G_random = nx.gnm_random_graph(G_cut.number_of_nodes(), G_cut.number_of_edges(), directed=True, seed=1)\n",
        "\n",
        "    #out-degree\n",
        "    degrees_G_cut = [G_cut.out_degree(n) for n in G_cut.nodes()]\n",
        "    degrees_G_random = [G_random.out_degree(n) for n in G_random.nodes()]\n",
        "    degrees_G_scalefree = [G_scalefree.out_degree(n) for n in G_scalefree.nodes()]\n",
        "\n",
        "    ks_random = stats.ks_2samp(degrees_G_cut, degrees_G_random)\n",
        "    ks_scalefree = stats.ks_2samp(degrees_G_cut, degrees_G_scalefree)\n",
        "\n",
        "    stat_all.append({'w': w,\n",
        "                    'nodes':G_cut.number_of_nodes(),\n",
        "                    'edges':G_cut.number_of_edges(),\n",
        "                    'ks_random_statistic':ks_random[0],\n",
        "                    'ks_random_pvalue':decimal.Decimal(\"{}\".format(float((ks_random[1])))),\n",
        "                    'ks_scalefree_statistic':ks_scalefree[0],\n",
        "                    'ks_scalefree_pvalue':decimal.Decimal(\"{}\".format(float((ks_scalefree[1])))),\n",
        "                     })"
      ],
      "execution_count": null,
      "outputs": []
    },
    {
      "cell_type": "code",
      "metadata": {
        "id": "iibd8-8sIfIy"
      },
      "source": [
        "df_stat_all = pd.DataFrame(stat_all)\n",
        "DET_all = gc.open_by_key('15q7qktebfX55LigsikT79yqLG2jb3hcWnyigNeKT8_A')\n",
        "worksheet_DET_all = DET_all.get_worksheet(0)\n",
        "set_with_dataframe(worksheet_DET_all , df_stat_all)"
      ],
      "execution_count": null,
      "outputs": []
    }
  ]
}